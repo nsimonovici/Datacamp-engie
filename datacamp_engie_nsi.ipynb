{
 "cells": [
  {
   "cell_type": "markdown",
   "metadata": {},
   "source": [
    "# Imports"
   ]
  },
  {
   "cell_type": "code",
   "execution_count": 1,
   "metadata": {},
   "outputs": [],
   "source": [
    "from regression_model_comparison import RegressionModelComparison\n",
    "import numpy as np\n",
    "import pandas as pd\n",
    "import mlflow"
   ]
  },
  {
   "cell_type": "markdown",
   "metadata": {},
   "source": [
    "# Data"
   ]
  },
  {
   "cell_type": "code",
   "execution_count": 4,
   "metadata": {},
   "outputs": [],
   "source": [
    "dataX = pd.read_csv('engie_X.csv', header=0, sep=';', decimal='.')\n",
    "# dataX.info()"
   ]
  },
  {
   "cell_type": "code",
   "execution_count": 5,
   "metadata": {},
   "outputs": [
    {
     "name": "stdout",
     "output_type": "stream",
     "text": [
      "<class 'pandas.core.frame.DataFrame'>\n",
      "RangeIndex: 617386 entries, 0 to 617385\n",
      "Data columns (total 2 columns):\n",
      " #   Column  Non-Null Count   Dtype  \n",
      "---  ------  --------------   -----  \n",
      " 0   ID      617386 non-null  int64  \n",
      " 1   TARGET  617386 non-null  float64\n",
      "dtypes: float64(1), int64(1)\n",
      "memory usage: 9.4 MB\n"
     ]
    }
   ],
   "source": [
    "dataY = pd.read_csv('engie_Y.csv', header=0,  sep=';', decimal='.')\n",
    "dataY.info()"
   ]
  },
  {
   "cell_type": "code",
   "execution_count": 6,
   "metadata": {},
   "outputs": [
    {
     "name": "stdout",
     "output_type": "stream",
     "text": [
      "SHAPE =  (617386, 79)\n"
     ]
    },
    {
     "data": {
      "text/html": [
       "<div>\n",
       "<style scoped>\n",
       "    .dataframe tbody tr th:only-of-type {\n",
       "        vertical-align: middle;\n",
       "    }\n",
       "\n",
       "    .dataframe tbody tr th {\n",
       "        vertical-align: top;\n",
       "    }\n",
       "\n",
       "    .dataframe thead th {\n",
       "        text-align: right;\n",
       "    }\n",
       "</style>\n",
       "<table border=\"1\" class=\"dataframe\">\n",
       "  <thead>\n",
       "    <tr style=\"text-align: right;\">\n",
       "      <th></th>\n",
       "      <th>ID</th>\n",
       "      <th>MAC_CODE</th>\n",
       "      <th>Date_time</th>\n",
       "      <th>Pitch_angle</th>\n",
       "      <th>Pitch_angle_min</th>\n",
       "      <th>Pitch_angle_max</th>\n",
       "      <th>Pitch_angle_std</th>\n",
       "      <th>Hub_temperature</th>\n",
       "      <th>Hub_temperature_min</th>\n",
       "      <th>Hub_temperature_max</th>\n",
       "      <th>...</th>\n",
       "      <th>Rotor_speed_min</th>\n",
       "      <th>Rotor_speed_max</th>\n",
       "      <th>Rotor_speed_std</th>\n",
       "      <th>Rotor_bearing_temperature</th>\n",
       "      <th>Rotor_bearing_temperature_min</th>\n",
       "      <th>Rotor_bearing_temperature_max</th>\n",
       "      <th>Rotor_bearing_temperature_std</th>\n",
       "      <th>Absolute_wind_direction_c</th>\n",
       "      <th>Nacelle_angle_c</th>\n",
       "      <th>TARGET</th>\n",
       "    </tr>\n",
       "  </thead>\n",
       "  <tbody>\n",
       "    <tr>\n",
       "      <th>0</th>\n",
       "      <td>1</td>\n",
       "      <td>WT3</td>\n",
       "      <td>1.0</td>\n",
       "      <td>92.470001</td>\n",
       "      <td>92.470001</td>\n",
       "      <td>92.470001</td>\n",
       "      <td>0.0</td>\n",
       "      <td>7.0</td>\n",
       "      <td>7.0</td>\n",
       "      <td>7.0</td>\n",
       "      <td>...</td>\n",
       "      <td>0.0</td>\n",
       "      <td>0.0</td>\n",
       "      <td>0.0</td>\n",
       "      <td>2.4</td>\n",
       "      <td>2.4</td>\n",
       "      <td>2.4</td>\n",
       "      <td>0.0</td>\n",
       "      <td>294.19000</td>\n",
       "      <td>294.23999</td>\n",
       "      <td>-0.703</td>\n",
       "    </tr>\n",
       "    <tr>\n",
       "      <th>1</th>\n",
       "      <td>2</td>\n",
       "      <td>WT3</td>\n",
       "      <td>2.0</td>\n",
       "      <td>92.470001</td>\n",
       "      <td>92.470001</td>\n",
       "      <td>92.470001</td>\n",
       "      <td>0.0</td>\n",
       "      <td>7.0</td>\n",
       "      <td>7.0</td>\n",
       "      <td>7.0</td>\n",
       "      <td>...</td>\n",
       "      <td>0.0</td>\n",
       "      <td>0.0</td>\n",
       "      <td>0.0</td>\n",
       "      <td>2.4</td>\n",
       "      <td>2.4</td>\n",
       "      <td>2.4</td>\n",
       "      <td>0.0</td>\n",
       "      <td>297.82999</td>\n",
       "      <td>294.23999</td>\n",
       "      <td>-0.747</td>\n",
       "    </tr>\n",
       "    <tr>\n",
       "      <th>2</th>\n",
       "      <td>3</td>\n",
       "      <td>WT3</td>\n",
       "      <td>3.0</td>\n",
       "      <td>92.470001</td>\n",
       "      <td>92.470001</td>\n",
       "      <td>92.470001</td>\n",
       "      <td>0.0</td>\n",
       "      <td>7.0</td>\n",
       "      <td>7.0</td>\n",
       "      <td>7.0</td>\n",
       "      <td>...</td>\n",
       "      <td>0.0</td>\n",
       "      <td>0.0</td>\n",
       "      <td>0.0</td>\n",
       "      <td>2.4</td>\n",
       "      <td>2.4</td>\n",
       "      <td>2.4</td>\n",
       "      <td>0.0</td>\n",
       "      <td>322.20999</td>\n",
       "      <td>294.23999</td>\n",
       "      <td>-0.791</td>\n",
       "    </tr>\n",
       "  </tbody>\n",
       "</table>\n",
       "<p>3 rows × 79 columns</p>\n",
       "</div>"
      ],
      "text/plain": [
       "   ID MAC_CODE  Date_time  Pitch_angle  Pitch_angle_min  Pitch_angle_max  \\\n",
       "0   1      WT3        1.0    92.470001        92.470001        92.470001   \n",
       "1   2      WT3        2.0    92.470001        92.470001        92.470001   \n",
       "2   3      WT3        3.0    92.470001        92.470001        92.470001   \n",
       "\n",
       "   Pitch_angle_std  Hub_temperature  Hub_temperature_min  Hub_temperature_max  \\\n",
       "0              0.0              7.0                  7.0                  7.0   \n",
       "1              0.0              7.0                  7.0                  7.0   \n",
       "2              0.0              7.0                  7.0                  7.0   \n",
       "\n",
       "   ...  Rotor_speed_min  Rotor_speed_max  Rotor_speed_std  \\\n",
       "0  ...              0.0              0.0              0.0   \n",
       "1  ...              0.0              0.0              0.0   \n",
       "2  ...              0.0              0.0              0.0   \n",
       "\n",
       "   Rotor_bearing_temperature  Rotor_bearing_temperature_min  \\\n",
       "0                        2.4                            2.4   \n",
       "1                        2.4                            2.4   \n",
       "2                        2.4                            2.4   \n",
       "\n",
       "   Rotor_bearing_temperature_max  Rotor_bearing_temperature_std  \\\n",
       "0                            2.4                            0.0   \n",
       "1                            2.4                            0.0   \n",
       "2                            2.4                            0.0   \n",
       "\n",
       "   Absolute_wind_direction_c  Nacelle_angle_c  TARGET  \n",
       "0                  294.19000        294.23999  -0.703  \n",
       "1                  297.82999        294.23999  -0.747  \n",
       "2                  322.20999        294.23999  -0.791  \n",
       "\n",
       "[3 rows x 79 columns]"
      ]
     },
     "execution_count": 6,
     "metadata": {},
     "output_type": "execute_result"
    }
   ],
   "source": [
    "data_raw = pd.merge(dataX, dataY, on='ID', how='inner')\n",
    "print(\"SHAPE = \", data_raw.shape)\n",
    "data_raw.head(3)"
   ]
  },
  {
   "cell_type": "code",
   "execution_count": 7,
   "metadata": {},
   "outputs": [],
   "source": [
    "sample_size = 100\n",
    "X = data_raw.drop(columns=['ID', 'MAC_CODE']).values[:sample_size]\n",
    "Y = data_raw.TARGET.values[:sample_size]"
   ]
  },
  {
   "cell_type": "markdown",
   "metadata": {},
   "source": [
    "## Séparation des éoliennes"
   ]
  },
  {
   "cell_type": "code",
   "execution_count": 13,
   "metadata": {},
   "outputs": [
    {
     "data": {
      "text/html": [
       "<div>\n",
       "<style scoped>\n",
       "    .dataframe tbody tr th:only-of-type {\n",
       "        vertical-align: middle;\n",
       "    }\n",
       "\n",
       "    .dataframe tbody tr th {\n",
       "        vertical-align: top;\n",
       "    }\n",
       "\n",
       "    .dataframe thead th {\n",
       "        text-align: right;\n",
       "    }\n",
       "</style>\n",
       "<table border=\"1\" class=\"dataframe\">\n",
       "  <thead>\n",
       "    <tr style=\"text-align: right;\">\n",
       "      <th></th>\n",
       "      <th>nrows</th>\n",
       "    </tr>\n",
       "    <tr>\n",
       "      <th>MAC_CODE</th>\n",
       "      <th></th>\n",
       "    </tr>\n",
       "  </thead>\n",
       "  <tbody>\n",
       "    <tr>\n",
       "      <th>WT1</th>\n",
       "      <td>154707</td>\n",
       "    </tr>\n",
       "    <tr>\n",
       "      <th>WT2</th>\n",
       "      <td>154791</td>\n",
       "    </tr>\n",
       "    <tr>\n",
       "      <th>WT3</th>\n",
       "      <td>154253</td>\n",
       "    </tr>\n",
       "    <tr>\n",
       "      <th>WT4</th>\n",
       "      <td>153635</td>\n",
       "    </tr>\n",
       "  </tbody>\n",
       "</table>\n",
       "</div>"
      ],
      "text/plain": [
       "           nrows\n",
       "MAC_CODE        \n",
       "WT1       154707\n",
       "WT2       154791\n",
       "WT3       154253\n",
       "WT4       153635"
      ]
     },
     "execution_count": 13,
     "metadata": {},
     "output_type": "execute_result"
    }
   ],
   "source": [
    "data_raw.groupby('MAC_CODE').agg(nrows=('MAC_CODE', 'count'))"
   ]
  },
  {
   "cell_type": "markdown",
   "metadata": {},
   "source": [
    "# Modelisation"
   ]
  },
  {
   "cell_type": "code",
   "execution_count": 8,
   "metadata": {},
   "outputs": [
    {
     "name": "stdout",
     "output_type": "stream",
     "text": [
      "##### Splitting Dataset with test_size = 0.1 and random_state = 3\n"
     ]
    }
   ],
   "source": [
    "comparison = RegressionModelComparison(\n",
    "    X,\n",
    "    Y,\n",
    "    scorings=['mae', 'mse'],\n",
    "    test_size=0.1,\n",
    "    seed=3\n",
    "    )"
   ]
  },
  {
   "cell_type": "code",
   "execution_count": 9,
   "metadata": {},
   "outputs": [],
   "source": [
    "numerical_features = [\n",
    "    'Date_time', 'Pitch_angle', 'Pitch_angle_min',\n",
    "       'Pitch_angle_max', 'Pitch_angle_std', 'Hub_temperature',\n",
    "       'Hub_temperature_min', 'Hub_temperature_max', 'Hub_temperature_std',\n",
    "       'Generator_converter_speed', 'Generator_converter_speed_min',\n",
    "       'Generator_converter_speed_max', 'Generator_converter_speed_std',\n",
    "       'Generator_speed', 'Generator_speed_min', 'Generator_speed_max',\n",
    "       'Generator_speed_std', 'Generator_bearing_1_temperature',\n",
    "       'Generator_bearing_1_temperature_min',\n",
    "       'Generator_bearing_1_temperature_max',\n",
    "       'Generator_bearing_1_temperature_std',\n",
    "       'Generator_bearing_2_temperature',\n",
    "       'Generator_bearing_2_temperature_min',\n",
    "       'Generator_bearing_2_temperature_max',\n",
    "       'Generator_bearing_2_temperature_std', 'Generator_stator_temperature',\n",
    "       'Generator_stator_temperature_min', 'Generator_stator_temperature_max',\n",
    "       'Generator_stator_temperature_std', 'Gearbox_bearing_1_temperature',\n",
    "       'Gearbox_bearing_1_temperature_min',\n",
    "       'Gearbox_bearing_1_temperature_max',\n",
    "       'Gearbox_bearing_1_temperature_std', 'Gearbox_bearing_2_temperature',\n",
    "       'Gearbox_bearing_2_temperature_min',\n",
    "       'Gearbox_bearing_2_temperature_max',\n",
    "       'Gearbox_bearing_2_temperature_std', 'Gearbox_inlet_temperature',\n",
    "       'Gearbox_inlet_temperature_min', 'Gearbox_inlet_temperature_max',\n",
    "       'Gearbox_inlet_temperature_std', 'Gearbox_oil_sump_temperature',\n",
    "       'Gearbox_oil_sump_temperature_min', 'Gearbox_oil_sump_temperature_max',\n",
    "       'Gearbox_oil_sump_temperature_std', 'Nacelle_angle',\n",
    "       'Nacelle_angle_min', 'Nacelle_angle_max', 'Nacelle_angle_std',\n",
    "       'Nacelle_temperature', 'Nacelle_temperature_min',\n",
    "       'Nacelle_temperature_max', 'Nacelle_temperature_std',\n",
    "       'Absolute_wind_direction', 'Outdoor_temperature',\n",
    "       'Outdoor_temperature_min', 'Outdoor_temperature_max',\n",
    "       'Outdoor_temperature_std', 'Grid_frequency', 'Grid_frequency_min',\n",
    "       'Grid_frequency_max', 'Grid_frequency_std', 'Grid_voltage',\n",
    "       'Grid_voltage_min', 'Grid_voltage_max', 'Grid_voltage_std',\n",
    "       'Rotor_speed', 'Rotor_speed_min', 'Rotor_speed_max', 'Rotor_speed_std',\n",
    "       'Rotor_bearing_temperature', 'Rotor_bearing_temperature_min',\n",
    "       'Rotor_bearing_temperature_max', 'Rotor_bearing_temperature_std'\n",
    "       ]\n",
    "\n",
    "other_features = ['Absolute_wind_direction_c', 'Nacelle_angle_c']"
   ]
  },
  {
   "cell_type": "code",
   "execution_count": 10,
   "metadata": {},
   "outputs": [
    {
     "name": "stdout",
     "output_type": "stream",
     "text": [
      "##### Preprocessors prepared : \n",
      "## 'base' :  ColumnTransformer(transformers=[('num',\n",
      "                                 Pipeline(steps=[('imputer', SimpleImputer()),\n",
      "                                                 ('scaler', StandardScaler())]),\n",
      "                                 ['Date_time', 'Pitch_angle', 'Pitch_angle_min',\n",
      "                                  'Pitch_angle_max', 'Pitch_angle_std',\n",
      "                                  'Hub_temperature', 'Hub_temperature_min',\n",
      "                                  'Hub_temperature_max', 'Hub_temperature_std',\n",
      "                                  'Generator_converter_speed',\n",
      "                                  'Generator_converter_speed_min',\n",
      "                                  'Generator_c...\n",
      "                                  'Generator_bearing_1_temperature_std',\n",
      "                                  'Generator_bearing_2_temperature',\n",
      "                                  'Generator_bearing_2_temperature_min',\n",
      "                                  'Generator_bearing_2_temperature_max',\n",
      "                                  'Generator_bearing_2_temperature_std',\n",
      "                                  'Generator_stator_temperature',\n",
      "                                  'Generator_stator_temperature_min',\n",
      "                                  'Generator_stator_temperature_max',\n",
      "                                  'Generator_stator_temperature_std',\n",
      "                                  'Gearbox_bearing_1_temperature', ...])])\n",
      "## 'poly' : ColumnTransformer(transformers=[('num',\n",
      "                                 Pipeline(steps=[('imputer', SimpleImputer()),\n",
      "                                                 ('scaler', StandardScaler())]),\n",
      "                                 ['Date_time', 'Pitch_angle', 'Pitch_angle_min',\n",
      "                                  'Pitch_angle_max', 'Pitch_angle_std',\n",
      "                                  'Hub_temperature', 'Hub_temperature_min',\n",
      "                                  'Hub_temperature_max', 'Hub_temperature_std',\n",
      "                                  'Generator_converter_speed',\n",
      "                                  'Generator_converter_speed_min',\n",
      "                                  'Generator_c...\n",
      "                                  'Generator_bearing_2_temperature_std',\n",
      "                                  'Generator_stator_temperature',\n",
      "                                  'Generator_stator_temperature_min',\n",
      "                                  'Generator_stator_temperature_max',\n",
      "                                  'Generator_stator_temperature_std',\n",
      "                                  'Gearbox_bearing_1_temperature', ...]),\n",
      "                                ('poly',\n",
      "                                 Pipeline(steps=[('imputer', SimpleImputer()),\n",
      "                                                 ('poly', PolynomialFeatures()),\n",
      "                                                 ('scaler', StandardScaler())]),\n",
      "                                 ['Absolute_wind_direction_c',\n",
      "                                  'Nacelle_angle_c'])])\n",
      "## 'splines' : ColumnTransformer(transformers=[('num',\n",
      "                                 Pipeline(steps=[('imputer', SimpleImputer()),\n",
      "                                                 ('scaler', StandardScaler())]),\n",
      "                                 ['Date_time', 'Pitch_angle', 'Pitch_angle_min',\n",
      "                                  'Pitch_angle_max', 'Pitch_angle_std',\n",
      "                                  'Hub_temperature', 'Hub_temperature_min',\n",
      "                                  'Hub_temperature_max', 'Hub_temperature_std',\n",
      "                                  'Generator_converter_speed',\n",
      "                                  'Generator_converter_speed_min',\n",
      "                                  'Generator_c...\n",
      "                                  'Generator_stator_temperature',\n",
      "                                  'Generator_stator_temperature_min',\n",
      "                                  'Generator_stator_temperature_max',\n",
      "                                  'Generator_stator_temperature_std',\n",
      "                                  'Gearbox_bearing_1_temperature', ...]),\n",
      "                                ('spline',\n",
      "                                 Pipeline(steps=[('imputer', SimpleImputer()),\n",
      "                                                 ('spline',\n",
      "                                                  SplineTransformer(include_bias=False,\n",
      "                                                                    n_knots=4)),\n",
      "                                                 ('scaler', StandardScaler())]),\n",
      "                                 ['Absolute_wind_direction_c',\n",
      "                                  'Nacelle_angle_c'])])\n"
     ]
    }
   ],
   "source": [
    "comparison.preprocessing(\n",
    "    numerical_features,\n",
    "    other_features,\n",
    "    nknots=4,\n",
    "    poly_order=2,\n",
    "    scaler='standard'\n",
    "    )"
   ]
  },
  {
   "cell_type": "code",
   "execution_count": 11,
   "metadata": {},
   "outputs": [
    {
     "name": "stdout",
     "output_type": "stream",
     "text": [
      "###### Start comparison ######\n",
      "Using preprocessor : ColumnTransformer(transformers=[('num',\n",
      "                                 Pipeline(steps=[('imputer', SimpleImputer()),\n",
      "                                                 ('scaler', StandardScaler())]),\n",
      "                                 ['Date_time', 'Pitch_angle', 'Pitch_angle_min',\n",
      "                                  'Pitch_angle_max', 'Pitch_angle_std',\n",
      "                                  'Hub_temperature', 'Hub_temperature_min',\n",
      "                                  'Hub_temperature_max', 'Hub_temperature_std',\n",
      "                                  'Generator_converter_speed',\n",
      "                                  'Generator_converter_speed_min',\n",
      "                                  'Generator_c...\n",
      "                                  'Generator_bearing_1_temperature_std',\n",
      "                                  'Generator_bearing_2_temperature',\n",
      "                                  'Generator_bearing_2_temperature_min',\n",
      "                                  'Generator_bearing_2_temperature_max',\n",
      "                                  'Generator_bearing_2_temperature_std',\n",
      "                                  'Generator_stator_temperature',\n",
      "                                  'Generator_stator_temperature_min',\n",
      "                                  'Generator_stator_temperature_max',\n",
      "                                  'Generator_stator_temperature_std',\n",
      "                                  'Gearbox_bearing_1_temperature', ...])])\n",
      "Using regressor : LinearRegression()\n"
     ]
    },
    {
     "ename": "TypeError",
     "evalue": "'NoneType' object is not subscriptable",
     "output_type": "error",
     "traceback": [
      "\u001b[1;31m---------------------------------------------------------------------------\u001b[0m",
      "\u001b[1;31mTypeError\u001b[0m                                 Traceback (most recent call last)",
      "Cell \u001b[1;32mIn[11], line 1\u001b[0m\n\u001b[1;32m----> 1\u001b[0m comparison\u001b[38;5;241m.\u001b[39mrun_comparison(\n\u001b[0;32m      2\u001b[0m         preproc\u001b[38;5;241m=\u001b[39m[\u001b[38;5;124m'\u001b[39m\u001b[38;5;124mbase\u001b[39m\u001b[38;5;124m'\u001b[39m],\n\u001b[0;32m      3\u001b[0m         model_param\u001b[38;5;241m=\u001b[39m{\n\u001b[0;32m      4\u001b[0m             \u001b[38;5;124m'\u001b[39m\u001b[38;5;124mlinear_regression\u001b[39m\u001b[38;5;124m'\u001b[39m: {},\n\u001b[0;32m      5\u001b[0m             \u001b[38;5;124m'\u001b[39m\u001b[38;5;124mridge\u001b[39m\u001b[38;5;124m'\u001b[39m: {},\n\u001b[0;32m      6\u001b[0m             \u001b[38;5;124m'\u001b[39m\u001b[38;5;124mlasso\u001b[39m\u001b[38;5;124m'\u001b[39m: {},\n\u001b[0;32m      7\u001b[0m             \u001b[38;5;124m'\u001b[39m\u001b[38;5;124melasticnet\u001b[39m\u001b[38;5;124m'\u001b[39m: {},\n\u001b[0;32m      8\u001b[0m             \u001b[38;5;124m'\u001b[39m\u001b[38;5;124mrandomforest\u001b[39m\u001b[38;5;124m'\u001b[39m: {\n\u001b[0;32m      9\u001b[0m                 \u001b[38;5;124m'\u001b[39m\u001b[38;5;124mclassifier__n_estimators\u001b[39m\u001b[38;5;124m'\u001b[39m : [\u001b[38;5;241m100\u001b[39m, \u001b[38;5;241m200\u001b[39m, \u001b[38;5;241m300\u001b[39m, \u001b[38;5;241m1000\u001b[39m], \u001b[38;5;66;03m# Nombre d'arbres dans la forêt. defaut 100\u001b[39;00m\n\u001b[0;32m     10\u001b[0m                 \u001b[38;5;124m'\u001b[39m\u001b[38;5;124mclassifier__max_depth\u001b[39m\u001b[38;5;124m'\u001b[39m : [\u001b[38;5;28;01mNone\u001b[39;00m, \u001b[38;5;241m10\u001b[39m, \u001b[38;5;241m20\u001b[39m, \u001b[38;5;241m30\u001b[39m], \u001b[38;5;66;03m# Profondeur maximale des arbres. Si None, les arbres sont développés jusqu'à ce que toutes les feuilles soient pures ou que chaque feuille contienne moins que min_samples_split échantillons\u001b[39;00m\n\u001b[0;32m     11\u001b[0m                 \u001b[38;5;124m'\u001b[39m\u001b[38;5;124mclassifier__max_features\u001b[39m\u001b[38;5;124m'\u001b[39m: [\u001b[38;5;241m3\u001b[39m, \u001b[38;5;124m'\u001b[39m\u001b[38;5;124msqrt\u001b[39m\u001b[38;5;124m'\u001b[39m], \u001b[38;5;66;03m# Nombre maximum de caractéristiques considérées pour chaque split (division d'un nœud en deux sous-nœuds)\u001b[39;00m\n\u001b[0;32m     12\u001b[0m                 },\n\u001b[0;32m     13\u001b[0m             \u001b[38;5;124m'\u001b[39m\u001b[38;5;124mgrd_boosting\u001b[39m\u001b[38;5;124m'\u001b[39m: {\n\u001b[0;32m     14\u001b[0m                 \u001b[38;5;124m'\u001b[39m\u001b[38;5;124mclassifier__learning_rate\u001b[39m\u001b[38;5;124m'\u001b[39m : [\u001b[38;5;241m.00\u001b[39m, \u001b[38;5;241m.01\u001b[39m, \u001b[38;5;241m.1\u001b[39m, \u001b[38;5;241m1\u001b[39m],\n\u001b[0;32m     15\u001b[0m                 \u001b[38;5;124m'\u001b[39m\u001b[38;5;124mclassifier__max_depth\u001b[39m\u001b[38;5;124m'\u001b[39m : [\u001b[38;5;241m3\u001b[39m, \u001b[38;5;241m7\u001b[39m, \u001b[38;5;241m9\u001b[39m],\n\u001b[0;32m     16\u001b[0m                 \u001b[38;5;124m'\u001b[39m\u001b[38;5;124mclassifier__subsample\u001b[39m\u001b[38;5;124m'\u001b[39m : [\u001b[38;5;241m0.5\u001b[39m, \u001b[38;5;241m0.7\u001b[39m, \u001b[38;5;241m1\u001b[39m],\n\u001b[0;32m     17\u001b[0m                 \u001b[38;5;124m'\u001b[39m\u001b[38;5;124mclassifier__n_estimators\u001b[39m\u001b[38;5;124m'\u001b[39m : [\u001b[38;5;241m100\u001b[39m, \u001b[38;5;241m200\u001b[39m, \u001b[38;5;241m300\u001b[39m, \u001b[38;5;241m1000\u001b[39m]\n\u001b[0;32m     18\u001b[0m                 }\n\u001b[0;32m     19\u001b[0m             },\n\u001b[0;32m     20\u001b[0m         nfolds\u001b[38;5;241m=\u001b[39m\u001b[38;5;241m5\u001b[39m,\n\u001b[0;32m     21\u001b[0m         verbose\u001b[38;5;241m=\u001b[39m\u001b[38;5;28;01mFalse\u001b[39;00m\n\u001b[0;32m     22\u001b[0m         )\n",
      "File \u001b[1;32mc:\\Users\\c75782\\OneDrive - EDF\\Formations\\Formation Data Scientist ENSAI\\Datacamp\\regression_model_comparison.py:216\u001b[0m, in \u001b[0;36mRegressionModelComparison.run_comparison\u001b[1;34m(self, preproc, model_param, nfolds, verbose)\u001b[0m\n\u001b[0;32m    208\u001b[0m     params \u001b[38;5;241m=\u001b[39m {\u001b[38;5;124m\"\u001b[39m\u001b[38;5;124mridge__alpha\u001b[39m\u001b[38;5;124m\"\u001b[39m: path_ridge}\n\u001b[0;32m    210\u001b[0m \u001b[38;5;66;03m# Grid Search\u001b[39;00m\n\u001b[0;32m    211\u001b[0m grid \u001b[38;5;241m=\u001b[39m GridSearchCV(\n\u001b[0;32m    212\u001b[0m         estimator\u001b[38;5;241m=\u001b[39mpip, \n\u001b[0;32m    213\u001b[0m         param_grid\u001b[38;5;241m=\u001b[39mparams, \n\u001b[0;32m    214\u001b[0m         cv\u001b[38;5;241m=\u001b[39mnfolds, \n\u001b[0;32m    215\u001b[0m         scoring\u001b[38;5;241m=\u001b[39m\u001b[38;5;28mself\u001b[39m\u001b[38;5;241m.\u001b[39mscorers, \n\u001b[1;32m--> 216\u001b[0m         refit\u001b[38;5;241m=\u001b[39m\u001b[38;5;28mself\u001b[39m\u001b[38;5;241m.\u001b[39mscorers[\u001b[38;5;241m0\u001b[39m]\n\u001b[0;32m    217\u001b[0m     )\u001b[38;5;241m.\u001b[39mfit(\u001b[38;5;28mself\u001b[39m\u001b[38;5;241m.\u001b[39mX_train_val, \u001b[38;5;28mself\u001b[39m\u001b[38;5;241m.\u001b[39my_train_val)\n\u001b[0;32m    219\u001b[0m \u001b[38;5;28;01mif\u001b[39;00m verbose:\n\u001b[0;32m    220\u001b[0m     \u001b[38;5;28mprint\u001b[39m(grid\u001b[38;5;241m.\u001b[39mbest_estimator_)\n",
      "\u001b[1;31mTypeError\u001b[0m: 'NoneType' object is not subscriptable"
     ]
    }
   ],
   "source": [
    "comparison.run_comparison(\n",
    "        preproc=['base'],\n",
    "        model_param={\n",
    "            'linear_regression': {},\n",
    "            'ridge': {},\n",
    "            'lasso': {},\n",
    "            'elasticnet': {},\n",
    "            'randomforest': {\n",
    "                'classifier__n_estimators' : [100, 200, 300, 1000], # Nombre d'arbres dans la forêt. defaut 100\n",
    "                'classifier__max_depth' : [None, 10, 20, 30], # Profondeur maximale des arbres. Si None, les arbres sont développés jusqu'à ce que toutes les feuilles soient pures ou que chaque feuille contienne moins que min_samples_split échantillons\n",
    "                'classifier__max_features': [3, 'sqrt'], # Nombre maximum de caractéristiques considérées pour chaque split (division d'un nœud en deux sous-nœuds)\n",
    "                },\n",
    "            'grd_boosting': {\n",
    "                'classifier__learning_rate' : [.00, .01, .1, 1],\n",
    "                'classifier__max_depth' : [3, 7, 9],\n",
    "                'classifier__subsample' : [0.5, 0.7, 1],\n",
    "                'classifier__n_estimators' : [100, 200, 300, 1000]\n",
    "                }\n",
    "            },\n",
    "        nfolds=5,\n",
    "        verbose=False\n",
    "        )"
   ]
  },
  {
   "cell_type": "code",
   "execution_count": null,
   "metadata": {},
   "outputs": [],
   "source": []
  }
 ],
 "metadata": {
  "kernelspec": {
   "display_name": "Python3 (projet-ensae)",
   "language": "python",
   "name": "projet-ensae"
  },
  "language_info": {
   "codemirror_mode": {
    "name": "ipython",
    "version": 3
   },
   "file_extension": ".py",
   "mimetype": "text/x-python",
   "name": "python",
   "nbconvert_exporter": "python",
   "pygments_lexer": "ipython3",
   "version": "3.12.7"
  }
 },
 "nbformat": 4,
 "nbformat_minor": 2
}
